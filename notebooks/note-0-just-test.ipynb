{
 "cells": [
  {
   "cell_type": "markdown",
   "metadata": {},
   "source": [
    "# note-0-just-test\n",
    "This notebook is for just testing the inference of a model.\n",
    "It loads the full-trained model for demonstration and test it on the MNIST dataset.\n",
    "\n",
    "## Flow\n",
    "1. Install the dependencies\n",
    "1. Preset the environment\n",
    "1. Load the model\n",
    "1. Test the model\n",
    "\n",
    "## Step\n",
    "\n",
    "### 1. Install the dependencies"
   ]
  },
  {
   "cell_type": "code",
   "execution_count": null,
   "metadata": {},
   "outputs": [],
   "source": [
    "!pip install --quiet --upgrade pip\n",
    "!pip install --quiet -r requirements.txt"
   ]
  },
  {
   "cell_type": "markdown",
   "metadata": {},
   "source": [
    "# Preset"
   ]
  },
  {
   "cell_type": "code",
   "execution_count": null,
   "metadata": {},
   "outputs": [],
   "source": [
    "import os, requests\n",
    "import matplotlib.pyplot as plt\n",
    "import torch, torchvision\n",
    "\n",
    "# Config\n",
    "## env\n",
    "FORCE_CPU = True\n",
    "SAMPLE_MODEL_URL = \"https://github.com/jyje/pilot-mlops-cicd/raw/c4c9955a4cdcc62fedf26c9365200e4a6fbec048/assets/sample_model.pt\"\n",
    "\n",
    "## logic\n",
    "CHANNEL_SIZE = 3\n",
    "RESIZE_SIZE = (224, 224)\n",
    "\n",
    "NORMALIZE_MEAN = (0.5,0.5,0.5)\n",
    "NORMALIZE_STD = (0.5,0.5,0.5)\n",
    "\n",
    "DATA_ROOT_PATH = \"./data\"\n",
    "MODEL_ROOT_PATH = \"./models\"\n",
    "MODEL_NAME = \"pilot\"\n",
    "MODEL_VERSION = \"1\"\n",
    "\n",
    "# Hyperparameters\n",
    "learning_rate = 0.001\n",
    "momentum = 0.9\n",
    "num_epochs = 3\n",
    "batch_size = 100\n",
    "num_workers = 0 # main process\n",
    "t_max = 200\n",
    "\n",
    "transform = torchvision.transforms.Compose(\n",
    "    [\n",
    "        torchvision.transforms.Resize(RESIZE_SIZE),\n",
    "        torchvision.transforms.ToTensor(),\n",
    "        torchvision.transforms.Lambda(lambda x: x.repeat(CHANNEL_SIZE, 1, 1)),\n",
    "        torchvision.transforms.Normalize(NORMALIZE_MEAN,NORMALIZE_STD),\n",
    "    ]\n",
    ")\n",
    "\n",
    "if FORCE_CPU:\n",
    "    device = torch.device(\"cpu\")\n",
    "    print(\"CPU is forced. Using CPU.\")\n",
    "elif torch.cuda.is_available():\n",
    "    device = torch.device(\"cuda\")\n",
    "    print(\"CUDA is available. torch.cuda is the API for NVIDIA GPU support\")\n",
    "elif torch.backends.mps.is_available() and torch.backends.mps.is_built():\n",
    "    device = torch.device(\"mps\")\n",
    "    print(\"MPS is available and built. torch.mps is the API for Apple Silicon GPU.\")\n",
    "else:\n",
    "    device = torch.device(\"cpu\")\n",
    "    print(\"Neither CUDA nor MPS is available or built. Using CPU.\")"
   ]
  },
  {
   "cell_type": "markdown",
   "metadata": {},
   "source": [
    "# Get Dataset"
   ]
  },
  {
   "cell_type": "code",
   "execution_count": null,
   "metadata": {},
   "outputs": [],
   "source": [
    "dataset_test = torchvision.datasets.MNIST(root=DATA_ROOT_PATH, train=False, download=True, transform=transform)\n",
    "dataloader_test = torch.utils.data.DataLoader(dataset=dataset_test, batch_size=batch_size, shuffle=True, num_workers=num_workers)"
   ]
  },
  {
   "cell_type": "markdown",
   "metadata": {},
   "source": [
    "## Load Model"
   ]
  },
  {
   "cell_type": "code",
   "execution_count": null,
   "metadata": {},
   "outputs": [],
   "source": [
    "if os.path.exists(f\"{MODEL_ROOT_PATH}/{MODEL_NAME}/{MODEL_VERSION}/model.pt\"):\n",
    "    print(\"Model already exists. Loading the model...\")\n",
    "else:\n",
    "    print(\"Model not found. Downloading the model...\")\n",
    "    os.makedirs(f\"{MODEL_ROOT_PATH}/{MODEL_NAME}/{MODEL_VERSION}\", exist_ok=True)\n",
    "\n",
    "    response = requests.get(SAMPLE_MODEL_URL)\n",
    "    with open(f\"{MODEL_ROOT_PATH}/model.pt\", \"wb\") as f:\n",
    "        f.write(response.content)\n",
    "\n",
    "loaded_model = torch.jit.load(f\"{MODEL_ROOT_PATH}/{MODEL_NAME}/{MODEL_VERSION}/model.pt\")\n",
    "\n",
    "loaded_model.eval()\n",
    "loaded_model = loaded_model.to(device)"
   ]
  },
  {
   "cell_type": "markdown",
   "metadata": {},
   "source": [
    "## Test Model"
   ]
  },
  {
   "cell_type": "code",
   "execution_count": null,
   "metadata": {},
   "outputs": [],
   "source": [
    "# Visualize a sample\n",
    "sample_test = next(iter(dataloader_test))\n",
    "\n",
    "img_test = sample_test[0][0].permute(1, 2, 0) # (C, H, W) -> (H, W, C)\n",
    "img_test = (img_test + 1) / 2 # Normalize Grayscale to [0, 1]\n",
    "\n",
    "test_img = img_test.permute(2, 0, 1).unsqueeze(dim=0).to(device)  # (H,W,C) -> (1,C,H,W)\n",
    "response = loaded_model(test_img)\n",
    "probabilities = torch.nn.functional.softmax(response, dim=1)\n",
    "predicted_class = torch.argmax(probabilities).item()\n",
    "\n",
    "plt.imshow(img_test)\n",
    "plt.title(f\"Testing sample (Real: {sample_test[1][0]}, Predicted: {predicted_class})\")\n",
    "plt.show()\n",
    "\n",
    "print(f\"Predicted Number: {predicted_class}\")\n",
    "print(f\"Probability Distribution:\")\n",
    "for idx, prob in enumerate(probabilities[0]):\n",
    "    print(f\" - Number {idx}: {prob.item()*100:.2f}%\")"
   ]
  }
 ],
 "metadata": {
  "kernelspec": {
   "display_name": "pilot-mlops-cicd-poc",
   "language": "python",
   "name": "python3"
  },
  "language_info": {
   "codemirror_mode": {
    "name": "ipython",
    "version": 3
   },
   "file_extension": ".py",
   "mimetype": "text/x-python",
   "name": "python",
   "nbconvert_exporter": "python",
   "pygments_lexer": "ipython3",
   "version": "3.12.8"
  }
 },
 "nbformat": 4,
 "nbformat_minor": 2
}
